{
  "nbformat": 4,
  "nbformat_minor": 0,
  "metadata": {
    "colab": {
      "provenance": [],
      "include_colab_link": true
    },
    "kernelspec": {
      "name": "python3",
      "display_name": "Python 3"
    },
    "language_info": {
      "name": "python"
    }
  },
  "cells": [
    {
      "cell_type": "markdown",
      "metadata": {
        "id": "view-in-github",
        "colab_type": "text"
      },
      "source": [
        "<a href=\"https://colab.research.google.com/github/RidaShalash/Foundation-of-DS_Spring_2025/blob/main/Lect_1_2025_02_02.ipynb\" target=\"_parent\"><img src=\"https://colab.research.google.com/assets/colab-badge.svg\" alt=\"Open In Colab\"/></a>"
      ]
    },
    {
      "cell_type": "markdown",
      "source": [
        "# Lect_1_Found_DS_AUC_2025-02-102"
      ],
      "metadata": {
        "id": "dmD9kc5xFfrq"
      }
    },
    {
      "cell_type": "markdown",
      "source": [],
      "metadata": {
        "id": "F9C2DzkL2BVO"
      }
    },
    {
      "cell_type": "code",
      "source": [
        "print(\"Hello World!\")"
      ],
      "metadata": {
        "colab": {
          "base_uri": "https://localhost:8080/"
        },
        "collapsed": true,
        "id": "2JaU7vFdRPH3",
        "outputId": "aa5cb4a7-428a-4130-9806-e7eaf41b21af"
      },
      "execution_count": 1,
      "outputs": [
        {
          "output_type": "stream",
          "name": "stdout",
          "text": [
            "Hello World!\n"
          ]
        }
      ]
    },
    {
      "cell_type": "code",
      "source": [
        "H=\"Hello\"\n",
        "W=\"World !\"\n",
        "print(H +\" \"+ W)"
      ],
      "metadata": {
        "id": "MbI8capKfpf3"
      },
      "execution_count": null,
      "outputs": []
    },
    {
      "cell_type": "code",
      "source": [
        "x = 5\n",
        "name = \"Alice\""
      ],
      "metadata": {
        "id": "KrNzsaDFUuyu"
      },
      "execution_count": 34,
      "outputs": []
    },
    {
      "cell_type": "code",
      "source": [
        "x"
      ],
      "metadata": {
        "id": "rxQgPiEFVptd"
      },
      "execution_count": null,
      "outputs": []
    },
    {
      "cell_type": "code",
      "source": [
        "name"
      ],
      "metadata": {
        "id": "8rCW4SrrVqYL"
      },
      "execution_count": null,
      "outputs": []
    },
    {
      "cell_type": "markdown",
      "source": [
        "#Arithmatic Operations\n",
        "#$+,-,*,**,/,//,\\%$"
      ],
      "metadata": {
        "id": "r16cbqkWw-o-"
      }
    },
    {
      "cell_type": "code",
      "source": [
        "#x=[2,5,7,9]\n",
        "#x_mod_2=list(map(lambda x: x//2,x))\n",
        "#x_mod_2"
      ],
      "metadata": {
        "id": "tFFzdWXFR02I"
      },
      "execution_count": 6,
      "outputs": []
    },
    {
      "cell_type": "markdown",
      "source": [
        "# Membership Operators"
      ],
      "metadata": {
        "id": "iAnsBixEpAgu"
      }
    },
    {
      "cell_type": "code",
      "source": [
        "# Membership operators :  in, not in\n",
        "x=[2,5,7,9]\n",
        "print(type(x))\n",
        "print(9 in x)\n",
        "print(9 not in x)"
      ],
      "metadata": {
        "id": "aSGR9ZJwomVB"
      },
      "execution_count": null,
      "outputs": []
    },
    {
      "cell_type": "code",
      "source": [
        "10 / 2"
      ],
      "metadata": {
        "id": "33wnbGQuWaB-"
      },
      "execution_count": null,
      "outputs": []
    },
    {
      "cell_type": "code",
      "source": [
        "5 % 2"
      ],
      "metadata": {
        "id": "49VvW2-MWe3W"
      },
      "execution_count": null,
      "outputs": []
    },
    {
      "cell_type": "code",
      "source": [
        "2 ** 3"
      ],
      "metadata": {
        "id": "Kyo68eOIWlBX"
      },
      "execution_count": null,
      "outputs": []
    },
    {
      "cell_type": "code",
      "source": [
        "x"
      ],
      "metadata": {
        "id": "KK5gZ8VoWtM4"
      },
      "execution_count": null,
      "outputs": []
    },
    {
      "cell_type": "code",
      "source": [
        "x += 2"
      ],
      "metadata": {
        "id": "8jSt5yBVW4Ps"
      },
      "execution_count": 10,
      "outputs": []
    },
    {
      "cell_type": "code",
      "source": [
        "x"
      ],
      "metadata": {
        "id": "tCa6VqdrW7Or"
      },
      "execution_count": null,
      "outputs": []
    },
    {
      "cell_type": "code",
      "source": [
        "# Castubg\n",
        "#x = int(1)   # x will be 1\n",
        "#y = int(2.8) # y will be 2\n",
        "#z = int(\"3\") # z will be 3\n",
        "#=============\n",
        "\n",
        "#x = float(1)     # x will be 1.0\n",
        "#y = float(2.8)   # y will be 2.8\n",
        "#z = float(\"3\")   # z will be 3.0\n",
        "#w = float(\"4.2\") # w will be 4.2\n",
        "\n",
        "#x = str(\"s1\") # x will be 's1'\n",
        "#y = str(2)    # y will be '2'\n",
        "#z = str(3.0)  # z will be '3.0'\n",
        "\n",
        "\n"
      ],
      "metadata": {
        "id": "Q4QRtVy4W9d3"
      },
      "execution_count": null,
      "outputs": []
    },
    {
      "cell_type": "code",
      "source": [
        "int (5.2)"
      ],
      "metadata": {
        "id": "uVSV523Ary29"
      },
      "execution_count": null,
      "outputs": []
    },
    {
      "cell_type": "code",
      "source": [
        "float(2)"
      ],
      "metadata": {
        "id": "kmcPvBG1XQdu"
      },
      "execution_count": null,
      "outputs": []
    },
    {
      "cell_type": "code",
      "source": [
        "int(\"5\")"
      ],
      "metadata": {
        "id": "lPhAlLEYXS30"
      },
      "execution_count": null,
      "outputs": []
    },
    {
      "cell_type": "code",
      "source": [
        "# Let's put things together:\n",
        "# Math Operations Quick task\n",
        "\n",
        "a = 10\n",
        "b = 3\n",
        "\n",
        "a_plus_b = a  + b\n",
        "a_minus_b = a - b\n",
        "\n",
        "a_mult_b = a * b\n",
        "a_pow_b = a ** b\n",
        "a_div_b = a / b\n",
        "\n",
        "a_mod_b_q = a // b\n",
        "a_mod_b_r = a % b\n",
        "# print the results of the airthmatic operations below\n",
        "# example:\n",
        "\n",
        "print(a_mod_b_q)\n",
        "print(a_mod_b_r)\n"
      ],
      "metadata": {
        "id": "82rFbcj-zLmy"
      },
      "execution_count": null,
      "outputs": []
    },
    {
      "cell_type": "code",
      "source": [
        "5 + 5"
      ],
      "metadata": {
        "id": "UyGs5yvMXa9e"
      },
      "execution_count": null,
      "outputs": []
    },
    {
      "cell_type": "code",
      "source": [
        "\"5\" + \"5\""
      ],
      "metadata": {
        "id": "a0yJHMcZXe38"
      },
      "execution_count": null,
      "outputs": []
    },
    {
      "cell_type": "code",
      "source": [
        "name"
      ],
      "metadata": {
        "id": "9XPSI8CiXm85"
      },
      "execution_count": null,
      "outputs": []
    },
    {
      "cell_type": "code",
      "source": [
        "name + name"
      ],
      "metadata": {
        "id": "4g6n7UODXwu0"
      },
      "execution_count": null,
      "outputs": []
    },
    {
      "cell_type": "code",
      "source": [
        "name +\" \"+ name"
      ],
      "metadata": {
        "colab": {
          "base_uri": "https://localhost:8080/",
          "height": 35
        },
        "id": "nfqReoXLg11u",
        "outputId": "1a03abc2-d7d1-4eb9-c2e1-3ecb17748a20"
      },
      "execution_count": 60,
      "outputs": [
        {
          "output_type": "execute_result",
          "data": {
            "text/plain": [
              "'Alice Alice'"
            ],
            "application/vnd.google.colaboratory.intrinsic+json": {
              "type": "string"
            }
          },
          "metadata": {},
          "execution_count": 60
        }
      ]
    },
    {
      "cell_type": "code",
      "source": [
        "name * 5"
      ],
      "metadata": {
        "colab": {
          "base_uri": "https://localhost:8080/",
          "height": 35
        },
        "id": "YzARA0rcX0S5",
        "outputId": "4ab46629-5e51-42c6-d8e5-4e38cdfc9b45"
      },
      "execution_count": 61,
      "outputs": [
        {
          "output_type": "execute_result",
          "data": {
            "text/plain": [
              "'AliceAliceAliceAliceAlice'"
            ],
            "application/vnd.google.colaboratory.intrinsic+json": {
              "type": "string"
            }
          },
          "metadata": {},
          "execution_count": 61
        }
      ]
    },
    {
      "cell_type": "code",
      "source": [
        "name[0]"
      ],
      "metadata": {
        "id": "As1sX10YX5yL"
      },
      "execution_count": null,
      "outputs": []
    },
    {
      "cell_type": "code",
      "source": [
        "name[1]"
      ],
      "metadata": {
        "id": "7gwcsHTpYDPj"
      },
      "execution_count": null,
      "outputs": []
    },
    {
      "cell_type": "code",
      "source": [
        "name[1:3]"
      ],
      "metadata": {
        "id": "N2fmpVJDYFyr"
      },
      "execution_count": null,
      "outputs": []
    },
    {
      "cell_type": "code",
      "source": [
        "name[-1]"
      ],
      "metadata": {
        "id": "lf52E5DjYN6d"
      },
      "execution_count": null,
      "outputs": []
    },
    {
      "cell_type": "code",
      "source": [
        "name[::-1]"
      ],
      "metadata": {
        "id": "acluJEEnZPES"
      },
      "execution_count": null,
      "outputs": []
    },
    {
      "cell_type": "code",
      "source": [
        "name2 = name.upper()"
      ],
      "metadata": {
        "id": "X14H83uaZPks"
      },
      "execution_count": 25,
      "outputs": []
    },
    {
      "cell_type": "code",
      "source": [
        "name"
      ],
      "metadata": {
        "id": "V9ogNPp4ZbR3"
      },
      "execution_count": null,
      "outputs": []
    },
    {
      "cell_type": "code",
      "source": [
        "name2"
      ],
      "metadata": {
        "id": "I9dY0KUFZeyD"
      },
      "execution_count": null,
      "outputs": []
    },
    {
      "cell_type": "code",
      "source": [
        "name = name.upper()\n",
        "name"
      ],
      "metadata": {
        "id": "vF_k6i7gZqJT"
      },
      "execution_count": null,
      "outputs": []
    },
    {
      "cell_type": "code",
      "source": [
        "name = name.lower()\n",
        "name"
      ],
      "metadata": {
        "id": "2gwn_6K7hRGa"
      },
      "execution_count": null,
      "outputs": []
    },
    {
      "cell_type": "code",
      "source": [
        "my_list = [1, 2, 3]\n",
        "my_list"
      ],
      "metadata": {
        "id": "UQTm3TKJZwwh"
      },
      "execution_count": null,
      "outputs": []
    },
    {
      "cell_type": "code",
      "source": [
        "my_list[0]"
      ],
      "metadata": {
        "id": "MAYSogLVaHov"
      },
      "execution_count": null,
      "outputs": []
    },
    {
      "cell_type": "code",
      "source": [
        "my_list[1] = 10\n",
        "my_list"
      ],
      "metadata": {
        "id": "zl-tsJiqaKaQ"
      },
      "execution_count": null,
      "outputs": []
    },
    {
      "cell_type": "code",
      "source": [
        "my_list[my_list[0]] = 5\n",
        "my_list"
      ],
      "metadata": {
        "id": "q3zHQxyiaVjd"
      },
      "execution_count": null,
      "outputs": []
    },
    {
      "cell_type": "code",
      "source": [
        "names = [\"Alice\", \"Bob\", \"Charlie\"]\n",
        "names"
      ],
      "metadata": {
        "id": "TX7SGRTQaFUI"
      },
      "execution_count": null,
      "outputs": []
    },
    {
      "cell_type": "code",
      "source": [
        "names"
      ],
      "metadata": {
        "colab": {
          "base_uri": "https://localhost:8080/"
        },
        "id": "xl-Nh37katIJ",
        "outputId": "9bd64439-9e8b-4d14-b7a6-34083e700d49"
      },
      "execution_count": 34,
      "outputs": [
        {
          "output_type": "execute_result",
          "data": {
            "text/plain": [
              "['Alice', 'Bob', 'Charlie']"
            ]
          },
          "metadata": {},
          "execution_count": 34
        }
      ]
    },
    {
      "cell_type": "code",
      "source": [
        "names[1][0]"
      ],
      "metadata": {
        "id": "bqceRgzXbafx"
      },
      "execution_count": null,
      "outputs": []
    },
    {
      "cell_type": "code",
      "source": [
        "list2 = [my_list, names]\n",
        "list2"
      ],
      "metadata": {
        "id": "0XNA9OnVbk79"
      },
      "execution_count": null,
      "outputs": []
    },
    {
      "cell_type": "code",
      "source": [
        "list2[1]"
      ],
      "metadata": {
        "id": "kPpZoskNcDZ_"
      },
      "execution_count": null,
      "outputs": []
    },
    {
      "cell_type": "code",
      "source": [
        "list2[1][0]"
      ],
      "metadata": {
        "id": "Go3BTuB2cXc1"
      },
      "execution_count": null,
      "outputs": []
    },
    {
      "cell_type": "code",
      "source": [
        "my_list.append(4)\n",
        "my_list"
      ],
      "metadata": {
        "id": "7fi6QuMocfw4"
      },
      "execution_count": null,
      "outputs": []
    },
    {
      "cell_type": "code",
      "source": [
        "names.sort()\n",
        "names"
      ],
      "metadata": {
        "id": "Kp8khVqxcwkm"
      },
      "execution_count": null,
      "outputs": []
    },
    {
      "cell_type": "code",
      "source": [
        "names_2=['Bob', 'Alice','Charlie']\n",
        "names_2.sort()\n",
        "names_2"
      ],
      "metadata": {
        "id": "enwGUKC_8rp7"
      },
      "execution_count": null,
      "outputs": []
    },
    {
      "cell_type": "code",
      "source": [
        "# Summary:\n",
        "# Dealing with lists\n",
        "# if x is a list all the following can be applied:\n",
        "# x.append, x.sort : can be used for x (numeric/strings)\n",
        "# x.upper,x.lower, : Mostly used for (strings)\n"
      ],
      "metadata": {
        "id": "KwQaSgZxc1Mb"
      },
      "execution_count": 40,
      "outputs": []
    }
  ]
}